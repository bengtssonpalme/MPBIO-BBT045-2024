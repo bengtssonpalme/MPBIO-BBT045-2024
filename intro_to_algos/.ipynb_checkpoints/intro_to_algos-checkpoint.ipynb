{
 "cells": [
  {
   "cell_type": "markdown",
   "id": "fec14b94-5c07-40ce-b59d-eabc6df4637d",
   "metadata": {},
   "source": [
    "# Aim\n",
    "\n",
    "This notebook goes over some basic concepts in data structures and algorithms. \n",
    "You should go through it and try to **answer the questions** before the \n",
    "\"Introduction to Algorithms\" tutorial. \n",
    "We will use time during the tutorial to clarify any confusions and do the exercises.\n",
    "\n",
    "For a proper overview of such topics, there are plenty of free online courses \n",
    "on Coursera, Youtube, etc. Classic books in the area are:\n",
    "\n",
    "- [Introduction to Algorithms](https://www.amazon.com/Introduction-Algorithms-3rd-MIT-Press/dp/0262033844) by Cormen et. al.\n",
    "- [Algorithms](https://www.amazon.com/gp/product/032157351X/ref=as_li_qf_sp_asin_il_tl?ie=UTF8&tag=algs4-20&linkCode=as2&camp=1789&creative=9325&creativeASIN=032157351X) by Sedgewick and Wayne \n",
    "\n",
    "though note that these were written for computer science undergraduates and quickly get technical.\n",
    "\n",
    "\n",
    "# Preliminaries\n",
    "\n",
    "We'll be using the the Python programming language to discuss some algorithmic concepts.\n",
    "Python is perhaps not the best choice for introducing such topics, since it's a high-level\n",
    "language, abstracting over many of the low-level operations.\n",
    "Still, many of the concepts can be discussed at multiple levels and when writing\n",
    "your own code it's good to be aware of the time and memory cost of your routines.\n",
    "\n",
    "Click [here](intro_to_algos.ipynb) to **download this Python notebook** \n",
    "so you can run it and write your own code.\n",
    "\n",
    "# Basic Concepts\n",
    "\n",
    "The whole point of programming is to automate tasks and let computers do the \"heavy lifting\" of processing.\n",
    "Regardless of application area (bioinformatics, computer games, video streaming), \n",
    "the basic building blocks of programming are essentially the same and revolve around\n",
    "**storing** and **processing** data. \n",
    "These two aspects are in a constant interplay and are tackled by\n",
    "**data structures** and **algorithms**, respectively.\n",
    "In fact, structure reflects function and no single data structure will best support all\n",
    "types of processing.\n",
    "\n",
    "\n",
    "# Basic Data Structures\n",
    "\n",
    "## Atomic values and operations\n",
    "\n",
    "Like their mathematical counterparts, variables are labels assigned to various values.\n",
    "These values may be *atomic* (e.g. a number) or structured *collections* of atomic values \n",
    "(e.g. a vector of numbers):"
   ]
  },
  {
   "cell_type": "code",
   "execution_count": 11,
   "id": "71765b8b-d6c0-404a-a9eb-ec99c46dee9d",
   "metadata": {},
   "outputs": [
    {
     "name": "stdout",
     "output_type": "stream",
     "text": [
      "5\n",
      "4\n"
     ]
    }
   ],
   "source": [
    "protein_count = 2345                    # atomic value\n",
    "organism = \"yeast\"                      # string\n",
    "temperatures = [35.2, 34, 35.7, 34.5]  # vector of floats (real values)\n",
    "\n",
    "# print(len(protein_count)) length if int is 1 (Not suported in python)\n",
    "print(len(organism))\n",
    "print(len(temperatures))"
   ]
  },
  {
   "cell_type": "markdown",
   "id": "e0976e25-f481-43b3-a6c1-c118ea4af189",
   "metadata": {},
   "source": [
    "(Note: The len of `organism` is 5 since Python treats characters as single values.\n",
    "However, every time we perform some string manipulation operation (e.g. pattern matching),\n",
    "these strings are processed character by character.)\n",
    "\n",
    "The main thing to note here from an algorithmic point of view is:\n",
    "\n",
    "> **We can measure a program's running time in terms of atomic operations**,\n",
    "i.e. getting and setting atomic values, as well as arithmetic operations with these."
   ]
  },
  {
   "cell_type": "code",
   "execution_count": 13,
   "id": "f735f3e6-2174-4809-ad2a-6feb6d89edae",
   "metadata": {},
   "outputs": [
    {
     "name": "stdout",
     "output_type": "stream",
     "text": [
      "2445\n"
     ]
    }
   ],
   "source": [
    "# 1 atomic operation: assigning (setting) a value\n",
    "protein_count = 2345                          \n",
    "\n",
    "# 3 atomic operations: \n",
    "# - getting the protein_count value from RAM into the CPU\n",
    "# - adding an atomic value \n",
    "# - then setting the resulting adjusted_protein_count value from the CPU into RAM\n",
    "adjusted_protein_count = protein_count + 100 \n",
    "print(adjusted_protein_count)"
   ]
  },
  {
   "cell_type": "markdown",
   "id": "28f8c0cc-4ded-489b-84f5-5c4ddcd07fdf",
   "metadata": {},
   "source": [
    "This is our unit of time. Of course the exact number of milliseconds will differ between computers,\n",
    "but this intrinsic unit allows us to reason about how the cost of programs scales with the amount of data they're fed.\n",
    "\n",
    "And because the focus is how things scale, it turns out that we can also think about\n",
    "the second operation above as effectively atomic, because constant multiplication factors\n",
    "can be ignored. For now, don't worry about that or the whole CPU-RAM dynamic mentioned there.\n",
    "\n",
    "The same reasoning in terms of atomic and compound values applies to **memory cost** \n",
    "though nowadays you're more likely to bump into long running times than memory limitations.\n",
    "\n",
    "\n",
    "## Vectors\n",
    "\n",
    "Also called *arrays* or *lists* in other languages, these are linear collections\n",
    "of atomic values of the same type."
   ]
  },
  {
   "cell_type": "code",
   "execution_count": 14,
   "id": "0a14161b-6f29-4b9a-a263-84c1058a3e63",
   "metadata": {},
   "outputs": [],
   "source": [
    "temperatures = [35.2, 34, 35.7, 34.5]"
   ]
  },
  {
   "cell_type": "markdown",
   "id": "3bdb0ea4-089e-4c15-98de-1aff49a572da",
   "metadata": {},
   "source": [
    "Let's say the length of a vector is N.\n",
    "\n",
    "> **One requires N atomic operations to fully process a vector**\n",
    "\n",
    "The time cost (or \"time complexity\" as it's formally known) of a program is \n",
    "defined as a function of the size of the input. So if our input is N numbers \n",
    "collected in a vector, the time cost is `time_cost(N) = k * N`\n",
    "\n",
    "As I hinted two examples ago, `k` can be theoretically ignored. This has more to do\n",
    "with the fact that as N grows to larger and larger values, some programs will\n",
    "have a time cost of e.g `k * N` and others of e.g. `k * N * N` (N squared).\n",
    "When comparing such programs, the constants really don't matter and it's the power of N\n",
    "that \"dominates\" the time cost.\n",
    "But of course, in practice, if you can reduce the k from 10 to 1, and N is the number of days, that does indeed make a difference.\n",
    "\n",
    "Back to vectors: they are meant for storing and fetching values by position.\n",
    "As in, assuming you \"know\" which element you want, \n",
    "you can retrieve it in one atomic operation (or \"constant time\")."
   ]
  },
  {
   "cell_type": "code",
   "execution_count": 16,
   "id": "9917ee41-f230-4f7c-aad9-7425bca3d125",
   "metadata": {},
   "outputs": [
    {
     "name": "stdout",
     "output_type": "stream",
     "text": [
      "34.5\n"
     ]
    }
   ],
   "source": [
    "print(temperatures[3])  # 1 atomic operation: getting the value"
   ]
  },
  {
   "cell_type": "markdown",
   "id": "27ce5f02-f994-41c7-af63-f71f3310913a",
   "metadata": {},
   "source": [
    "\n",
    "This is important to understand. If you want element number 1000 from a vector, \n",
    "the computer directly gives you that element (in 1 atomic operation),\n",
    "it doesn't cross the entire list to get there.\n",
    "\n",
    "Now, the problem is if you *don't know* which element you want, say if you're\n",
    "looking for the largest value. If you're just given a vector and know nothing\n",
    "about it, you really have no choice but to go element-by-element to find the\n",
    "largest one. Thus, computing `max(vector)` has a time cost of `N`.\n",
    "\n",
    "> One often thinks of program **time costs** in terms of **worst-case scenarios**,\n",
    "since these cases will inform how many resources must be guaranteed for the program.\n",
    "\n",
    "Many real world problems are intrinsically difficult, \n",
    "meaning the optimal solution requires very large time costs.\n",
    "The figure below gives a few examples.\n",
    "`O()` basically means worst case. As you can see, for some of these \n",
    "the cost explodes even with relatively few data (N)\n",
    "\n",
    "![](complexity_classes.png)\n",
    "\n",
    "\n",
    "## Hash Maps\n",
    "\n",
    "Also known as \"dictionaries\" in Python, \"hash tables\", \n",
    "or \"associative array\" (in the theory),\n",
    "this data type holds a collection of elements, similar to a vector,\n",
    "except that elements are indexed by *keys* (unique IDs) and are not sorted in any particular order.\n",
    "These keys can be of any data type, though frequently strings are used.\n",
    "Indeed, vectors can be considered a particular case of hash map, where the keys are\n",
    "successive integers.\n",
    "\n",
    "They are often used for \"reversed lookup\" scenarios.\n",
    "So for instance, if you want to look up the coordinates of a gene,\n",
    "you can use a hash map indexed by gene name to fetch the associated numeric value.\n",
    "With hash maps, this is an atomic operation (i.e. the list of keys is not searched until the \n",
    "matching one is found).\n"
   ]
  },
  {
   "cell_type": "code",
   "execution_count": 17,
   "id": "23a08596-066d-434d-aef9-9170e24d2e41",
   "metadata": {},
   "outputs": [],
   "source": [
    "gene_pos = {} \n",
    "\n",
    "# We insert elements one by one using gene names as string keys\n",
    "# The syntax is \n",
    "# hashmap[key] <- value   Note the double brackets\n",
    "\n",
    "gene_pos[\"gene_a\"] = [1, 1000]\n",
    "gene_pos[\"gene_b\"] = [10001, 2010]\n",
    "gene_pos[\"gene_c\"] = [2011, 2999]"
   ]
  },
  {
   "cell_type": "markdown",
   "id": "5850dc97-58e5-4c5d-bdbb-24031e17435c",
   "metadata": {},
   "source": [
    "To retrieve an element from this hash map using a gene name (the key), simply\n",
    "refer to it like this\n"
   ]
  },
  {
   "cell_type": "code",
   "execution_count": 18,
   "id": "25bd4bff-25fd-4273-ae7d-78a69e11d9bf",
   "metadata": {},
   "outputs": [
    {
     "name": "stdout",
     "output_type": "stream",
     "text": [
      "[10001, 2010]\n"
     ]
    }
   ],
   "source": [
    "print(gene_pos[\"gene_b\"])"
   ]
  },
  {
   "cell_type": "markdown",
   "id": "6d5512ad-e408-4255-8ced-cd35a2fc0e6f",
   "metadata": {},
   "source": [
    "To get a list of keys, use the dictionary function keys():"
   ]
  },
  {
   "cell_type": "code",
   "execution_count": 19,
   "id": "f4cb4c39-d97a-452c-a92b-c4ae9de5ff77",
   "metadata": {},
   "outputs": [
    {
     "data": {
      "text/plain": [
       "dict_keys(['gene_a', 'gene_b', 'gene_c'])"
      ]
     },
     "execution_count": 19,
     "metadata": {},
     "output_type": "execute_result"
    }
   ],
   "source": [
    "gene_pos.keys()"
   ]
  },
  {
   "cell_type": "markdown",
   "id": "557d2407-6b6c-40e6-a972-6518900b5a87",
   "metadata": {},
   "source": [
    "If a key is not present, a KeyNotFound error will be triggered . \n",
    "The proper way to check that is with the `has_key()` command:"
   ]
  },
  {
   "cell_type": "code",
   "execution_count": 29,
   "id": "10fa0ee9-d4a1-4435-8994-f621691886b6",
   "metadata": {},
   "outputs": [
    {
     "name": "stdout",
     "output_type": "stream",
     "text": [
      "[1, 1000]\n"
     ]
    }
   ],
   "source": [
    "\n",
    "query_gene = \"gene_a\"\n",
    "\n",
    "if not gene_pos.get(query_gene):\n",
    "    print(f\"{query_gene} not preset\")\n",
    "else:\n",
    "    print(gene_pos[query_gene]) \n"
   ]
  },
  {
   "cell_type": "markdown",
   "id": "0e4623f6-1d5d-49fa-8e07-da37327eb120",
   "metadata": {},
   "source": [
    "Why is this a useful data structure? Because\n",
    "\n",
    "> **Entries in hash maps are accessed in one atomic operation**\n",
    "\n",
    "\n",
    "### Question 1\n",
    "\n",
    "**How would you perform this look up using vectors?** That is, \n",
    "given vectors `gene_start = [100, 200, ...]` and \n",
    "`gene_name = [\"gene_a\", \"gene_b\", ...] `, how would you fetch the start position\n",
    "of a query gene?\n",
    "\n",
    "\n",
    "## Sets\n",
    "\n",
    "In many languages, a \"set\" data structure is simply a \"bag\" of values (like a vector,\n",
    "but without any ordering). The great advantage is that they can tell you\n",
    "in a single atomic operation if a value is present or not in the set.\n",
    "\n",
    "> **Testing set membership takes a single atomic operation**\n",
    "\n",
    "Which is great if you're testing whether a million values are part of a set containing \n",
    "10 million known values.\n",
    "\n",
    "\n"
   ]
  },
  {
   "cell_type": "code",
   "execution_count": 30,
   "id": "98b6824d-c79a-4a6f-b495-3ee33fdbd348",
   "metadata": {},
   "outputs": [
    {
     "name": "stdout",
     "output_type": "stream",
     "text": [
      "Gene not preset\n"
     ]
    }
   ],
   "source": [
    "gene_id_set = {\"AB1234\", \"AB1235\", \"AB1236\"}\n",
    "\n",
    "query_gene = \"XY1234\"\n",
    "\n",
    "if query_gene not in gene_id_set:\n",
    "    print(\"Gene not preset\")\n",
    "else:\n",
    "    gene_id_set.add(query_gene) "
   ]
  },
  {
   "cell_type": "markdown",
   "id": "78fdef2c-80fc-407d-a53e-e86ff413c9ab",
   "metadata": {},
   "source": [
    "To \"remove\" a value from the set, you can use the discarde function"
   ]
  },
  {
   "cell_type": "code",
   "execution_count": 31,
   "id": "b165c17c-e5b3-47c4-b1f7-3facfc5e585b",
   "metadata": {},
   "outputs": [],
   "source": [
    "gene_id_set.discard(\"AB1235\")"
   ]
  },
  {
   "cell_type": "markdown",
   "id": "8ac64d20-26cf-4655-b63e-f8ed8e89d896",
   "metadata": {},
   "source": [
    "# Control Flow\n",
    "\n",
    "Programs usually consist of collections of tasks that are applied repetitively\n",
    "to multiple input values, or are applied conditionally based on some logic.\n",
    "Technically, this is called *control flow* and the basic patterns one must know are\n",
    "*loops* and logical execution *conditions*. \n",
    "These are likely familiar to any beginner programmer but here we will focus more\n",
    "on algorithmic aspects.\n",
    "\n",
    "## Looping\n",
    "\n",
    "The most typical pattern is to apply some sort of processing to many elements in a loop or list comprehension. \n"
   ]
  },
  {
   "cell_type": "code",
   "execution_count": 33,
   "id": "a51896d0-b70b-4f19-8a25-ae552eaadec0",
   "metadata": {},
   "outputs": [
    {
     "data": {
      "text/plain": [
       "[308.34999999999997, 307.15, 308.84999999999997, 307.65]"
      ]
     },
     "execution_count": 33,
     "metadata": {},
     "output_type": "execute_result"
    }
   ],
   "source": [
    "CELSIUS_ZERO_IN_KELVIN = 273.15\n",
    "\n",
    "#initialise\n",
    "temperatures_kelvin = [0.0 for _ in temperatures]\n",
    "# loop\n",
    "for  i in range(len(temperatures)): \n",
    "    temperatures_kelvin[i] = CELSIUS_ZERO_IN_KELVIN + temperatures[i]\n",
    "\n",
    "\n",
    "# List comprehesion\n",
    "\n",
    "temperatures_kelvin = [ CELSIUS_ZERO_IN_KELVIN + temperature for temperature in temperatures]\n",
    "\n",
    "\n",
    "temperatures_kelvin"
   ]
  },
  {
   "cell_type": "markdown",
   "id": "f4d6c7bb-76e3-4199-9776-aeeaf928ddd3",
   "metadata": {},
   "source": [
    "Before we move on, please note that we **do not change the input data** and instead\n",
    "create a new vector for the transformed vales.\n",
    "This is a **good practice** that you should follow, primarily for reproducibility reasons.\n",
    "\n",
    "Here we applied a simple transformation to all elements of a unidimensional vector.\n",
    "Suppose we have a list of lists or a matrix, and we need to change all elements,\n",
    "say get log values of protein counts across samples."
   ]
  },
  {
   "cell_type": "code",
   "execution_count": 36,
   "id": "9a016c18-c133-469f-9b43-0864942d3725",
   "metadata": {},
   "outputs": [
    {
     "name": "stdout",
     "output_type": "stream",
     "text": [
      "[[4.60517019 4.79579055 2.30258509 2.7080502 ]\n",
      " [6.90775528 7.19818358 5.16478597 5.10594547]\n",
      " [4.60517019 4.79579055 2.30258509 2.7080502 ]]\n"
     ]
    }
   ],
   "source": [
    "import numpy as np\n",
    "\n",
    "\n",
    "N_PROTEINS = 3\n",
    "N_SAMPLES = 4\n",
    "\n",
    "protein_counts_across_samples = np.array(\n",
    "    [[100, 121, 10, 15],\n",
    "     [1000, 1337, 175, 165],\n",
    "     [100, 121, 10, 15]])\n",
    "\n",
    "protein_log_counts_across_samples = np.zeros((N_PROTEINS, N_SAMPLES))\n",
    "\n",
    "for protein_num in range(N_PROTEINS):\n",
    "    for sample_num in range(N_SAMPLES):\n",
    "        protein_log_counts_across_samples[protein_num, sample_num] = np.log(protein_counts_across_samples[protein_num, sample_num])\n",
    "\n",
    "print(protein_log_counts_across_samples)"
   ]
  },
  {
   "cell_type": "markdown",
   "id": "71ca93be-9809-4deb-ac90-ee0a23a268d0",
   "metadata": {},
   "source": [
    "### Question 2\n",
    "\n",
    "**What is the time cost of the matrix transformation above?** Try to phrase your answer as a formula, not actual numbers.\n",
    "\n",
    "\n",
    "Now, the above is only for illustration.\n",
    "Since numpy is suporting vectorized operations,\n",
    "you don't need to do any of that in actual code. You'd simply write:"
   ]
  },
  {
   "cell_type": "code",
   "execution_count": 39,
   "id": "ffc086c9-8a9c-45a5-b587-d69981664558",
   "metadata": {},
   "outputs": [
    {
     "name": "stdout",
     "output_type": "stream",
     "text": [
      "[[4.60517019 4.79579055 2.30258509 2.7080502 ]\n",
      " [6.90775528 7.19818358 5.16478597 5.10594547]\n",
      " [4.60517019 4.79579055 2.30258509 2.7080502 ]]\n"
     ]
    }
   ],
   "source": [
    "temperatures = np.array(temperatures)\n",
    "temperatures_kelvin = temperatures + CELSIUS_ZERO_IN_KELVIN\n",
    "protein_log_counts_across_samples = np.log(protein_counts_across_samples)\n",
    "print(protein_log_counts_across_samples)"
   ]
  },
  {
   "cell_type": "markdown",
   "id": "766c39f8-a75b-4925-82a2-75790dfbb3f2",
   "metadata": {},
   "source": [
    "In fact, `for` loops in python tend to be slower than these vectorized operations \n",
    "(i.e. operations/functions that can be applied on the vectors as a whole).\n",
    "Though keep in mind that \"under the hood\", it's still for loops!\n",
    "(Just in C or Fortran and hence much faster).\n",
    "\n",
    "`for` loops still need to be used in same cases, but there are better patterns to use.\n",
    "\n",
    "\n",
    "## Functional Approach\n",
    "\n",
    "As with any technological process or pipeline, \n",
    "certain functionality can be made generic and reused. \n",
    "In python, procedures can be encapsulated in functions.\n",
    "\n",
    "\n",
    "For example, let's have a function that truncates any negative value to 0 and\n",
    "doubles any positive value. Why not."
   ]
  },
  {
   "cell_type": "code",
   "execution_count": 40,
   "id": "5807f78b-0822-4b4c-9a1a-5a46df274845",
   "metadata": {},
   "outputs": [],
   "source": [
    "def amplify_positive(value):\n",
    "    # The value of the last executed command is the value the function gives back\n",
    "    # One can also be explicit and use the return() command for clarity\n",
    "    \n",
    "    if (value < 0):\n",
    "        return(0)\n",
    "    else: \n",
    "        return(2 * value)\n",
    "    \n"
   ]
  },
  {
   "cell_type": "markdown",
   "id": "99f6955c-f481-452b-af6f-4525188174b9",
   "metadata": {},
   "source": [
    "Python is a procedural language that does play well with functions for various\n",
    "data structures. Quite often in statistical, mathematical, and bioinformatical programming, \n",
    "one works with vectors as the unit of calculation and the focus is more on the functions \n",
    "that are applied to these vectors. \n",
    "Functional programming is a very deep subject area but it helps to be aware of some common patterns.\n",
    "\n",
    "\n",
    "Here we will look at two common functional operations:\n",
    "\n",
    "- **map** aka **apply**  (the former name is the most common and the one used in the \n",
    "[theory](https://en.wikipedia.org/wiki/Map_(higher-order_function)))\n",
    "- **filter**\n",
    "- **reduce** aka **summarize** aka **combine** aka **fold** \n",
    "\n",
    "### Map\n",
    "\n",
    "This basically means *applying a function to each element* in a vector.\n",
    "In base R this operation is called `apply` (and exists in several version).\n",
    "\n",
    "Because our example function has a logical test that is defined per atomic value,\n",
    "it cannot simply be fed an entire vector (like we did for the `log` function).\n",
    "The code below will given a warning and not produce what we want.\n"
   ]
  },
  {
   "cell_type": "code",
   "execution_count": 41,
   "id": "5fe0a3fb-bdb9-4ff3-8c44-0ad4f326a87b",
   "metadata": {},
   "outputs": [
    {
     "ename": "TypeError",
     "evalue": "'<' not supported between instances of 'list' and 'int'",
     "output_type": "error",
     "traceback": [
      "\u001b[0;31m---------------------------------------------------------------------------\u001b[0m",
      "\u001b[0;31mTypeError\u001b[0m                                 Traceback (most recent call last)",
      "\u001b[0;32m/var/folders/57/vh8bv4c56k7gv21p_tjxqc8c0000gp/T/ipykernel_97954/2192705066.py\u001b[0m in \u001b[0;36m<module>\u001b[0;34m\u001b[0m\n\u001b[1;32m      1\u001b[0m \u001b[0mtest_values\u001b[0m \u001b[0;34m=\u001b[0m \u001b[0;34m[\u001b[0m\u001b[0;34m-\u001b[0m\u001b[0;36m3\u001b[0m\u001b[0;34m,\u001b[0m \u001b[0;34m-\u001b[0m\u001b[0;36m2\u001b[0m\u001b[0;34m,\u001b[0m \u001b[0;34m-\u001b[0m\u001b[0;36m1\u001b[0m\u001b[0;34m,\u001b[0m \u001b[0;36m0\u001b[0m\u001b[0;34m,\u001b[0m \u001b[0;36m1\u001b[0m\u001b[0;34m,\u001b[0m \u001b[0;36m2\u001b[0m\u001b[0;34m,\u001b[0m \u001b[0;36m3\u001b[0m\u001b[0;34m]\u001b[0m\u001b[0;34m\u001b[0m\u001b[0;34m\u001b[0m\u001b[0m\n\u001b[0;32m----> 2\u001b[0;31m \u001b[0mamplify_positive\u001b[0m\u001b[0;34m(\u001b[0m\u001b[0mtest_values\u001b[0m\u001b[0;34m)\u001b[0m\u001b[0;34m\u001b[0m\u001b[0;34m\u001b[0m\u001b[0m\n\u001b[0m",
      "\u001b[0;32m/var/folders/57/vh8bv4c56k7gv21p_tjxqc8c0000gp/T/ipykernel_97954/371040877.py\u001b[0m in \u001b[0;36mamplify_positive\u001b[0;34m(value)\u001b[0m\n\u001b[1;32m      3\u001b[0m     \u001b[0;31m# One can also be explicit and use the return() command for clarity\u001b[0m\u001b[0;34m\u001b[0m\u001b[0;34m\u001b[0m\u001b[0;34m\u001b[0m\u001b[0m\n\u001b[1;32m      4\u001b[0m \u001b[0;34m\u001b[0m\u001b[0m\n\u001b[0;32m----> 5\u001b[0;31m     \u001b[0;32mif\u001b[0m \u001b[0;34m(\u001b[0m\u001b[0mvalue\u001b[0m \u001b[0;34m<\u001b[0m \u001b[0;36m0\u001b[0m\u001b[0;34m)\u001b[0m\u001b[0;34m:\u001b[0m\u001b[0;34m\u001b[0m\u001b[0;34m\u001b[0m\u001b[0m\n\u001b[0m\u001b[1;32m      6\u001b[0m         \u001b[0;32mreturn\u001b[0m\u001b[0;34m(\u001b[0m\u001b[0;36m0\u001b[0m\u001b[0;34m)\u001b[0m\u001b[0;34m\u001b[0m\u001b[0;34m\u001b[0m\u001b[0m\n\u001b[1;32m      7\u001b[0m     \u001b[0;32melse\u001b[0m\u001b[0;34m:\u001b[0m\u001b[0;34m\u001b[0m\u001b[0;34m\u001b[0m\u001b[0m\n",
      "\u001b[0;31mTypeError\u001b[0m: '<' not supported between instances of 'list' and 'int'"
     ]
    }
   ],
   "source": [
    "test_values = [-3, -2, -1, 0, 1, 2, 3] \n",
    "amplify_positive(test_values)"
   ]
  },
  {
   "cell_type": "markdown",
   "id": "6b89b61e-7e8d-48f6-a372-dd6c9d69b8b2",
   "metadata": {},
   "source": [
    "So we must tell Python how to map the function onto a vector (or \"apply\" it).\n",
    "There are a few version of this function and you are encouraged to read the vignette\n",
    "and try these out. The basic syntax is\n",
    "\n",
    "`map( function, vector) `"
   ]
  },
  {
   "cell_type": "code",
   "execution_count": 46,
   "id": "352c9427-b005-4195-917e-94555928ae5b",
   "metadata": {},
   "outputs": [
    {
     "name": "stdout",
     "output_type": "stream",
     "text": [
      "[0, 0, 0, 0, 2, 4, 6]\n"
     ]
    }
   ],
   "source": [
    "test_values = [-3, -2, -1, 0, 1, 2, 3] \n",
    "new_values = map( amplify_positive, test_values)\n",
    "\n",
    "#print(new_values)\n",
    "print(list(new_values))"
   ]
  },
  {
   "cell_type": "markdown",
   "id": "b0e8add9-c355-4907-87cf-dba0c09b2a88",
   "metadata": {},
   "source": [
    "Fun fact: the `dplyr` pipe operator `%>%`  in R is a type of map operation, just\n",
    "written as a \"connector\" that has the meaning `data %>% function == function(data)`.\n",
    "\n",
    "If you can (easily) express a procedure as a function, the functional approach\n",
    "is strongly encouraged instead of using `for` loops. So **don't write**"
   ]
  },
  {
   "cell_type": "code",
   "execution_count": 48,
   "id": "c4be7736-c8d7-40a4-b646-0faae3dc8b02",
   "metadata": {},
   "outputs": [],
   "source": [
    "amplified_values = [0 for _ in test_values]\n",
    "for i in range(len(test_values)):\n",
    "    if (test_values[i] < 0):\n",
    "        amplified_values[i] = 0\n",
    "    else:\n",
    "        amplified_values[i] = 2 * test_values[i]"
   ]
  },
  {
   "cell_type": "markdown",
   "id": "4f9d0aa8-e635-4acb-8067-16693ea683c8",
   "metadata": {},
   "source": [
    "Of course, \"under the hood\"\n",
    "\n",
    "> **Mapping a function onto a vector still has a time cost of N (the length of the vector).**\n",
    "\n",
    "\n",
    "### Filter\n",
    "\n",
    "This pattern uses a logical condition function to choose only elements \n",
    "from a vector that satisfy the function's condition.\n",
    "In base R (without extra packages like `dplyr` or `purrr`), \n",
    "this can be done in 2 steps: \n",
    "1) map the condition function onto the vector\n",
    "to produce a logical (true/false) vector \n",
    "2) use R's [logical subsetting](https://adv-r.hadley.nz/subsetting.html#selecting-rows-based-on-a-condition-logical-subsetting) of a vector\n",
    "to select only those elements that are marked with `TRUE`\n",
    "\n",
    "In a single command, this would be `vector[apply(vector, condition)]`\n",
    "\n",
    "We'll use a non-trivial toy example, where we're given a vector of query values\n",
    "and wish to keep only \"interesting\" values above a threshold.\n"
   ]
  },
  {
   "cell_type": "code",
   "execution_count": 54,
   "id": "9422cd7b-e6bc-455a-8cd1-aed03f497da6",
   "metadata": {},
   "outputs": [
    {
     "name": "stdout",
     "output_type": "stream",
     "text": [
      "[  10  100 1337]\n"
     ]
    }
   ],
   "source": [
    "baseline_values = [i for i in range(8)]\n",
    "interesting_values = [10, 100, 1337, 1e6]\n",
    "\n",
    "def is_interesting (value):\n",
    "    if value > max(baseline_values):\n",
    "        for element in interesting_values:\n",
    "            if (element == value):\n",
    "                # Match found: the function can immediately return TRUE\n",
    "                return(True)\n",
    "        # If we went through all interesting_values without a match\n",
    "        return False\n",
    "    return False\n",
    "   \n",
    "\n",
    "query_values = np.array([ i for i in range(2000)])\n",
    "\n",
    "print(query_values[list(map(is_interesting, query_values))])"
   ]
  },
  {
   "cell_type": "markdown",
   "id": "62e098f3-3fa1-48f0-8ad8-a5432b3026f4",
   "metadata": {},
   "source": [
    "#### Question 3\n",
    "\n",
    "> **What's the time cost of the example filter function?** Try to express it as a formula.\n",
    "\n",
    "#### Question 4\n",
    "\n",
    "> **How can you speed up this example filtering?** Hint: There are 2 ways and they involve `baseline_values` and `interesting_values`\n",
    "\n",
    "\n",
    "### Reduce\n",
    "\n",
    "This means *applying on a vector a function* that somehow combines the elements \n",
    "into a single (or at least lower-dimensional) value. \n",
    "\n",
    "The classic example is `sum()` which returns a single number, given a vector as argument.\n",
    "Pretty straightforward, but good to be aware of it formally when designing your programs.\n",
    "\n",
    "#### Question 5\n",
    "\n",
    "**What's the time cost of reduce functions?** Try to express it as a formula.\n",
    "\n",
    "\n",
    "### Map-Reduce\n",
    "\n",
    "This is a frequent combination in data science and baked into the `dplyr` package,\n",
    "as well as the overall `tidyverse` ecosystem.\n",
    "In tidy data frames, columns are variables and rows observations.\n",
    "Many operations performed can be expressed using map-reduce patterns.\n",
    "\n",
    "For example, let's take the Iris dataset, and compute the average petal area.\n",
    "The data frame looks like this\n"
   ]
  },
  {
   "cell_type": "code",
   "execution_count": 67,
   "id": "6c1f8f1d-a521-453d-99cb-02129d2ee5ff",
   "metadata": {},
   "outputs": [
    {
     "data": {
      "text/html": [
       "<div>\n",
       "<style scoped>\n",
       "    .dataframe tbody tr th:only-of-type {\n",
       "        vertical-align: middle;\n",
       "    }\n",
       "\n",
       "    .dataframe tbody tr th {\n",
       "        vertical-align: top;\n",
       "    }\n",
       "\n",
       "    .dataframe thead th {\n",
       "        text-align: right;\n",
       "    }\n",
       "</style>\n",
       "<table border=\"1\" class=\"dataframe\">\n",
       "  <thead>\n",
       "    <tr style=\"text-align: right;\">\n",
       "      <th></th>\n",
       "      <th>sepal.length</th>\n",
       "      <th>sepal.width</th>\n",
       "      <th>petal.length</th>\n",
       "      <th>petal.width</th>\n",
       "      <th>variety</th>\n",
       "    </tr>\n",
       "  </thead>\n",
       "  <tbody>\n",
       "    <tr>\n",
       "      <th>0</th>\n",
       "      <td>5.1</td>\n",
       "      <td>3.5</td>\n",
       "      <td>1.4</td>\n",
       "      <td>0.2</td>\n",
       "      <td>Setosa</td>\n",
       "    </tr>\n",
       "    <tr>\n",
       "      <th>1</th>\n",
       "      <td>4.9</td>\n",
       "      <td>3.0</td>\n",
       "      <td>1.4</td>\n",
       "      <td>0.2</td>\n",
       "      <td>Setosa</td>\n",
       "    </tr>\n",
       "    <tr>\n",
       "      <th>2</th>\n",
       "      <td>4.7</td>\n",
       "      <td>3.2</td>\n",
       "      <td>1.3</td>\n",
       "      <td>0.2</td>\n",
       "      <td>Setosa</td>\n",
       "    </tr>\n",
       "    <tr>\n",
       "      <th>3</th>\n",
       "      <td>4.6</td>\n",
       "      <td>3.1</td>\n",
       "      <td>1.5</td>\n",
       "      <td>0.2</td>\n",
       "      <td>Setosa</td>\n",
       "    </tr>\n",
       "    <tr>\n",
       "      <th>4</th>\n",
       "      <td>5.0</td>\n",
       "      <td>3.6</td>\n",
       "      <td>1.4</td>\n",
       "      <td>0.2</td>\n",
       "      <td>Setosa</td>\n",
       "    </tr>\n",
       "    <tr>\n",
       "      <th>...</th>\n",
       "      <td>...</td>\n",
       "      <td>...</td>\n",
       "      <td>...</td>\n",
       "      <td>...</td>\n",
       "      <td>...</td>\n",
       "    </tr>\n",
       "    <tr>\n",
       "      <th>145</th>\n",
       "      <td>6.7</td>\n",
       "      <td>3.0</td>\n",
       "      <td>5.2</td>\n",
       "      <td>2.3</td>\n",
       "      <td>Virginica</td>\n",
       "    </tr>\n",
       "    <tr>\n",
       "      <th>146</th>\n",
       "      <td>6.3</td>\n",
       "      <td>2.5</td>\n",
       "      <td>5.0</td>\n",
       "      <td>1.9</td>\n",
       "      <td>Virginica</td>\n",
       "    </tr>\n",
       "    <tr>\n",
       "      <th>147</th>\n",
       "      <td>6.5</td>\n",
       "      <td>3.0</td>\n",
       "      <td>5.2</td>\n",
       "      <td>2.0</td>\n",
       "      <td>Virginica</td>\n",
       "    </tr>\n",
       "    <tr>\n",
       "      <th>148</th>\n",
       "      <td>6.2</td>\n",
       "      <td>3.4</td>\n",
       "      <td>5.4</td>\n",
       "      <td>2.3</td>\n",
       "      <td>Virginica</td>\n",
       "    </tr>\n",
       "    <tr>\n",
       "      <th>149</th>\n",
       "      <td>5.9</td>\n",
       "      <td>3.0</td>\n",
       "      <td>5.1</td>\n",
       "      <td>1.8</td>\n",
       "      <td>Virginica</td>\n",
       "    </tr>\n",
       "  </tbody>\n",
       "</table>\n",
       "<p>150 rows × 5 columns</p>\n",
       "</div>"
      ],
      "text/plain": [
       "     sepal.length  sepal.width  petal.length  petal.width    variety\n",
       "0             5.1          3.5           1.4          0.2     Setosa\n",
       "1             4.9          3.0           1.4          0.2     Setosa\n",
       "2             4.7          3.2           1.3          0.2     Setosa\n",
       "3             4.6          3.1           1.5          0.2     Setosa\n",
       "4             5.0          3.6           1.4          0.2     Setosa\n",
       "..            ...          ...           ...          ...        ...\n",
       "145           6.7          3.0           5.2          2.3  Virginica\n",
       "146           6.3          2.5           5.0          1.9  Virginica\n",
       "147           6.5          3.0           5.2          2.0  Virginica\n",
       "148           6.2          3.4           5.4          2.3  Virginica\n",
       "149           5.9          3.0           5.1          1.8  Virginica\n",
       "\n",
       "[150 rows x 5 columns]"
      ]
     },
     "execution_count": 67,
     "metadata": {},
     "output_type": "execute_result"
    }
   ],
   "source": [
    "import pandas as pd\n",
    "\n",
    "iris = pd.read_csv(\"iris.csv\")\n",
    "iris"
   ]
  },
  {
   "cell_type": "markdown",
   "id": "a011843f-4e8b-4a1d-bdae-2710fc66ae3c",
   "metadata": {},
   "source": [
    "We compute the areas (very simplistically), then the average of all areas:"
   ]
  },
  {
   "cell_type": "code",
   "execution_count": 68,
   "id": "fdc531b2-df35-48f9-a281-4e01927f5148",
   "metadata": {},
   "outputs": [
    {
     "name": "stdout",
     "output_type": "stream",
     "text": [
      "5.794066666666667\n"
     ]
    }
   ],
   "source": [
    "# Assuming 'iris' is a DataFrame with columns 'Petal.Length' and 'Petal.Width'\n",
    "# You can replace it with your actual DataFrame and column names\n",
    "\n",
    "iris['petal area (cm^2)'] = iris['petal.length'] * iris['petal.width']\n",
    "result = iris['petal area (cm^2)'].mean()\n",
    "\n",
    "print(result)"
   ]
  },
  {
   "cell_type": "markdown",
   "id": "8229c42a-3534-4417-864e-2e41774dbd47",
   "metadata": {},
   "source": [
    "#### Question 6\n",
    "\n",
    "**What is the time cost of the above calculation?** Try to express it as a formula.\n",
    "\n",
    "Using such patterns often makes code easier to understand and faster to write, \n",
    "and may even lead to faster execution if the system is optimized for functional \n",
    "or vector-based programming.\n",
    "\n",
    "We will not cover parallelized code but another huge advantage is that this sort\n",
    "of pattern is very easy run on multiple CPUs, leading to manifold speed improvements.\n",
    "Indeed, many big data, machine learning, and bioinformatics frameworks automatically\n",
    "do that for you, provided you structure the code this way.\n",
    "\n",
    "\n",
    "# Testing Algorithms\n",
    "\n",
    "We've looked at it different data structures and ways to control the flow of program execution. \n",
    "These are the building blocks of algorithms.\n",
    "Besides time cost, another major concern when considering algorithms is **correctness**.\n",
    "Even if one is developing a probabilistic or approximate algorithm,\n",
    "it's important to verify that results are within acceptable bounds.\n",
    "\n",
    "Many fundamental algorithms have rigorous mathematical proofs of correctness,\n",
    "that take into account all possible inputs. In common practice,\n",
    "it's very difficult to guarantee that any non-trivial algorithm produces the results you want\n",
    "(provided of course you even explicitly *know* what you want). \n",
    "This is complicated by the fact that the *implementation* of an algorithm \n",
    "using a certain language, library, OS, etc. can hide a plethora of bugs.\n",
    "\n",
    "Testing correctness of programs is a vast field, however\n",
    "\n",
    "> **Using a few good practices will get you a long way toward correct and reproducible\n",
    "code.**\n",
    "\n",
    "\n",
    "## Toward correctness: Clean, modular code\n",
    "\n",
    "Here are just two of these good programming practices.\n",
    "It's very easy to pick up bad habits and hard to lose them so make sure to practice\n",
    "these principles from the beginning :)\n",
    "\n",
    "### (C1) Give meaningful names to variables and functions\n",
    "\n",
    "Remember the rant about giving variables meaningful names? \n",
    "The pragmatic side of it is that you need to communicate what your code does. \n",
    "People (even future you) will evaluate code to see if it makes sense \n",
    "and does what it's supposed to. \n",
    "The flipside is that people won't trust your code if it looks like spaghetti.\n",
    "\n",
    "\n",
    "### (C2) Don't repeat yourself\n",
    "\n",
    "It's very tempting to copy-paste code to do the same thing mulitple times.\n",
    "We've all done it. It's also a very bad idea.\n",
    "It creates a \"code swamp\" that hides the main flow of the code but more importantly, \n",
    "it's highly error-prone, especially when making changes.\n",
    "And changes will be made. There's no such thing as 100% single-use code.\n",
    "\n",
    "So instead of something like this:\n"
   ]
  },
  {
   "cell_type": "code",
   "execution_count": null,
   "id": "fd6fddae-2c26-4f44-9c1f-10488dd61e9e",
   "metadata": {},
   "outputs": [],
   "source": [
    "data1 = read_csv(\"my_data_file_1.csv\")\n",
    "avg1 = mean(data1)\n",
    "data2 = read_csv(\"my_data_file_2.csv\")\n",
    "avg2 = mean(data2)\n",
    "data2 =read_csv(\"my_data_file_3.csv\")  # this copy-paste-change error is on purpose, but it happens\n",
    "avg3 = mean(data2)"
   ]
  },
  {
   "cell_type": "markdown",
   "id": "1dffb003-7664-4c96-93b9-3205e3781727",
   "metadata": {},
   "source": [
    "Generalize:"
   ]
  },
  {
   "cell_type": "code",
   "execution_count": 63,
   "id": "19a39850-48ee-42ed-8079-7b97f1a72b66",
   "metadata": {},
   "outputs": [],
   "source": [
    "filenames = [\"my_data_file_1.csv\", \"my_data_file_2.csv\", \"my_data_file_3.csv\"]\n",
    "averages = map(mean, map(read_csv, filenames))"
   ]
  },
  {
   "cell_type": "markdown",
   "id": "8b19c2b6-2a1e-4af8-99c5-92e82bbe4d8f",
   "metadata": {},
   "source": [
    "Now you can just extend the list of file names, or use `list.files()`\n",
    "to get all files names in the directory. And if you ever want to summarize\n",
    "the values differently, you just replace `mean` in one place.\n",
    "\n",
    "If the benefit of the general form is not obvious, \n",
    "imagine the procedure for each file is like 20 lines long.\n",
    "\n",
    "Of course, you need not (or can not) think up the best code structure beforehand, \n",
    "but do take steps to avoid bad patterns.\n",
    "\n",
    "\n",
    "### Toward correctness: Testing\n",
    "\n",
    "The most obvious way to test code is to feed it input and see if it produces expected output.\n",
    "It's very difficult or even impossible to cover all cases,\n",
    "especially if one is not aware of all corner cases of more complex code. \n",
    "But this can be alleviated by writing your programs in a modular way\n",
    "and testing each \"module\" separately. This is easier if one follows principle (C2) above.\n",
    "\n",
    "A **good practice** is to actually **prepare test cases before writing the code**. \n",
    "This helps thinking a bit deeper about the problem being solved and potential gotchas.\n",
    "\n",
    "This can be as simple as writing something like:\n"
   ]
  },
  {
   "cell_type": "code",
   "execution_count": 64,
   "id": "a3d9a79e-3d23-4de7-9c26-96f2dd766c50",
   "metadata": {},
   "outputs": [
    {
     "name": "stdout",
     "output_type": "stream",
     "text": [
      "False\n"
     ]
    }
   ],
   "source": [
    "def my_procedure(x):\n",
    "    return x^2 * 10 \n",
    "\n",
    "# Tests\n",
    "test_inputs = [1, 2, 3, -1, -2]\n",
    "expected_outputs = [10, 40, 90, 10, 40]\n",
    "\n",
    "actual_outputs = map( my_procedure, test_inputs)\n",
    "print(expected_outputs == list(actual_outputs))"
   ]
  },
  {
   "cell_type": "markdown",
   "id": "09e37153-942d-4aed-857d-1694b1d1f88c",
   "metadata": {},
   "source": [
    "There is also a package called [testthat](https://testthat.r-lib.org/) which\n",
    "offers more functionality for writing tests but as you can see, it's super easy\n",
    "to write large batteries of tests to assess whehter you have the solution you think you have.\n",
    "\n",
    "\n",
    "# Exercise: ID Frequency\n",
    "\n",
    "1. Write a **function** that counts the number of times an ID appears in a vector.\n",
    "E.g. in `[\"abc\", \"xyz\", \"abc\", \"def\"]`, \"abc\" appears 2 times, the rest 1 time.\n",
    "\n",
    "2. Describe its time cost using a formula. Aim for a low time cost when building your solution.\n",
    "\n",
    "A solution written in every-day python is given below, for you to test against.\n",
    "Please write the function using only base python (\"from scratch\") using the\n",
    "data structures and methods discussed earlier.\n",
    "\n",
    "Run the code below to generate 10 thousand random IDs consisting of 2 letters\n",
    "and a digit, then write your function and test it against the solution written below.\n"
   ]
  },
  {
   "cell_type": "code",
   "execution_count": 65,
   "id": "157e74f6-70e1-4c59-bcbd-d5f63bfba71e",
   "metadata": {},
   "outputs": [
    {
     "name": "stdout",
     "output_type": "stream",
     "text": [
      "['QA2', 'FT6', 'XC4', 'AF5', 'AF6', 'OF5', 'VA8', 'SI1', 'YI0', 'CW6']\n"
     ]
    }
   ],
   "source": [
    "import random\n",
    "import string\n",
    "\n",
    "# Set seed for reproducibility\n",
    "random.seed(42)\n",
    "\n",
    "# Generate random strings\n",
    "random_strings = [''.join(random.choices(string.ascii_uppercase, k=2) + random.choices(string.digits, k=1)) for _ in range(10000)]\n",
    "\n",
    "# Print the first 10 random strings\n",
    "print(random_strings[:10])"
   ]
  },
  {
   "cell_type": "code",
   "execution_count": null,
   "id": "7eaff48c-4f6e-45c6-b08a-27375989c0fb",
   "metadata": {},
   "outputs": [],
   "source": [
    "# Your function here "
   ]
  },
  {
   "cell_type": "code",
   "execution_count": 66,
   "id": "05cc8102-efb8-4863-8ea3-adf545476440",
   "metadata": {},
   "outputs": [
    {
     "name": "stdout",
     "output_type": "stream",
     "text": [
      "       id  count\n",
      "0     AA1      1\n",
      "1     AA3      1\n",
      "2     AA4      2\n",
      "3     AA5      1\n",
      "4     AA6      2\n",
      "...   ...    ...\n",
      "5213  ZZ3      1\n",
      "5214  ZZ4      2\n",
      "5215  ZZ7      2\n",
      "5216  ZZ8      3\n",
      "5217  ZZ9      2\n",
      "\n",
      "[5218 rows x 2 columns]\n"
     ]
    }
   ],
   "source": [
    "import pandas as pd\n",
    "\n",
    "# Assuming 'random_strings' is a list of strings\n",
    "# You can replace it with your actual list\n",
    "\n",
    "# Create a DataFrame\n",
    "df = pd.DataFrame({'id': random_strings})\n",
    "\n",
    "# Group by 'id' and count occurrences\n",
    "answer = df.groupby('id').size().reset_index(name='count')\n",
    "\n",
    "# Print the result\n",
    "print(answer)"
   ]
  },
  {
   "cell_type": "code",
   "execution_count": null,
   "id": "6ffbc999-8d27-4c8d-a632-7ea16f5eebde",
   "metadata": {},
   "outputs": [],
   "source": []
  }
 ],
 "metadata": {
  "kernelspec": {
   "display_name": "Python 3 (ipykernel)",
   "language": "python",
   "name": "python3"
  },
  "language_info": {
   "codemirror_mode": {
    "name": "ipython",
    "version": 3
   },
   "file_extension": ".py",
   "mimetype": "text/x-python",
   "name": "python",
   "nbconvert_exporter": "python",
   "pygments_lexer": "ipython3",
   "version": "3.11.2"
  }
 },
 "nbformat": 4,
 "nbformat_minor": 5
}
