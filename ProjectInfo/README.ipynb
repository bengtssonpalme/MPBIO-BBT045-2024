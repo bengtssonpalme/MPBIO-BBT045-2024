{
 "cells": [
  {
   "cell_type": "markdown",
   "id": "1a8e96b6-87e4-4d93-92c2-97423c13d194",
   "metadata": {},
   "source": [
    "# README - Project Container\n",
    "\n",
    "Author: Vi Varga\n",
    "\n",
    "Last Modified: 19.02.2024\n",
    "\n",
    "\n",
    "## Introduction\n",
    "\n",
    "This README.ipynb file provides a brief explanation/guide for how to use the container that has been prepared for students in BBT045 to use for their projects. A README.md file will also be provided, with all markdown-formatted text included therein. \n",
    "\n",
    "The `bbt045-projects.sif` container has been created for students to use to run their projects, so that students do not have to install their own software on the Vera cluster. Please contact the teaching staff (especially Vi), if you would like access to a program that is not included in the container, or if something malfunctions. \n",
    "\n",
    "If you do not have it already, you can download this information in Jupyter Notebook format from [here](README.ipynb).\n",
    "\n",
    "\n",
    "## Installed software\n",
    "\n",
    "The full list of programs installed in the `bbt045-projects.sif` container can be found in the `bbt045-projects.yml` and `conda_environment_args_proj.def` files included in the same directory as the container (`/cephyr/NOBACKUP/groups/bbt045_2024/ProjectSoftware/`). Below is a list of the most important software: \n",
    " - FastQC\n",
    " - TrimGalore!\n",
    " - Trimmomatic\n",
    " - MetaCompass\n",
    " - SPAdes (including metaSPAdes)\n",
    " - Prokka\n",
    " - CD-HIT\n",
    " - MetaPhlan2\n",
    " - Bowtie2\n",
    " - Python\n",
    "    - Biopython\n",
    "    - Jupyter\n",
    "    - matplotlib, seaborn\n",
    "    - numpy, pandas\n",
    "    - scipy\n",
    "\n",
    "\n",
    "## Using the container\n",
    "\n",
    "In order to use the `bbt045-projects.sif` container, please use the `run_jupyter_proj.sh` script found in the same directory as the container, and modify the time requirement and ID as you have done for the `run_jupyter.sh` script before. ALternatively, you can continue using your copy of the `run_jupyter.sh`, script, and simply change the PATH to the container to read: \n",
    "\n",
    "```bash\n",
    "container=/cephyr/NOBACKUP/groups/bbt045_2024/ProjectSoftware/bbt045-projects.sif\n",
    "```\n",
    "\n",
    "Of the programs mentioned above, all but MetaCompass have been installed using `conda`. All programs installed via `conda` can be run directly from within your Jupyter Notebook, like so: "
   ]
  },
  {
   "cell_type": "code",
   "execution_count": 3,
   "id": "07fdbec9-7c32-4b58-87de-51bf998fce8a",
   "metadata": {},
   "outputs": [
    {
     "name": "stdout",
     "output_type": "stream",
     "text": [
      "SPAdes genome assembler v3.15.5 [metaSPAdes mode]\n",
      "\n",
      "Usage: spades.py [options] -o <output_dir>\n",
      "\n",
      "Basic options:\n",
      "  -o <output_dir>             directory to store all the resulting files (required)\n",
      "  --iontorrent                this flag is required for IonTorrent data\n",
      "  --test                      runs SPAdes on toy dataset\n",
      "  -h, --help                  prints this usage message\n",
      "  -v, --version               prints version\n",
      "\n",
      "Input data:\n",
      "  --12 <filename>             file with interlaced forward and reverse paired-end reads\n",
      "  -1 <filename>               file with forward paired-end reads\n",
      "  -2 <filename>               file with reverse paired-end reads\n",
      "  -s <filename>               file with unpaired reads\n",
      "  --merged <filename>         file with merged forward and reverse paired-end reads\n",
      "  --pe-12 <#> <filename>      file with interlaced reads for paired-end library number <#>.\n",
      "                              Older deprecated syntax is -pe<#>-12 <filename>\n",
      "  --pe-1 <#> <filename>       file with forward reads for paired-end library number <#>.\n",
      "                              Older deprecated syntax is -pe<#>-1 <filename>\n",
      "  --pe-2 <#> <filename>       file with reverse reads for paired-end library number <#>.\n",
      "                              Older deprecated syntax is -pe<#>-2 <filename>\n",
      "  --pe-s <#> <filename>       file with unpaired reads for paired-end library number <#>.\n",
      "                              Older deprecated syntax is -pe<#>-s <filename>\n",
      "  --pe-m <#> <filename>       file with merged reads for paired-end library number <#>.\n",
      "                              Older deprecated syntax is -pe<#>-m <filename>\n",
      "  --pe-or <#> <or>            orientation of reads for paired-end library number <#> \n",
      "                              (<or> = fr, rf, ff).\n",
      "                              Older deprecated syntax is -pe<#>-<or>\n",
      "  --s <#> <filename>          file with unpaired reads for single reads library number <#>.\n",
      "                              Older deprecated syntax is --s<#> <filename>\n",
      "  --pacbio <filename>         file with PacBio reads\n",
      "  --nanopore <filename>       file with Nanopore reads\n",
      "\n",
      "Pipeline options:\n",
      "  --only-error-correction     runs only read error correction (without assembling)\n",
      "  --only-assembler            runs only assembling (without read error correction)\n",
      "  --checkpoints <last or all>\n",
      "                              save intermediate check-points ('last', 'all')\n",
      "  --continue                  continue run from the last available check-point (only -o should be specified)\n",
      "  --restart-from <cp>         restart run with updated options and from the specified check-point\n",
      "                              ('ec', 'as', 'k<int>', 'mc', 'last')\n",
      "  --disable-gzip-output       forces error correction not to compress the corrected reads\n",
      "  --disable-rr                disables repeat resolution stage of assembling\n",
      "\n",
      "Advanced options:\n",
      "  --dataset <filename>        file with dataset description in YAML format\n",
      "  -t <int>, --threads <int>   number of threads. [default: 16]\n",
      "  -m <int>, --memory <int>    RAM limit for SPAdes in Gb (terminates if exceeded). [default: 250]\n",
      "  --tmp-dir <dirname>         directory for temporary files. [default: <output_dir>/tmp]\n",
      "  -k <int> [<int> ...]        list of k-mer sizes (must be odd and less than 128)\n",
      "                              [default: 'auto']\n",
      "  --phred-offset <33 or 64>   PHRED quality offset in the input reads (33 or 64),\n",
      "                              [default: auto-detect]\n",
      "  --custom-hmms <dirname>     directory with custom hmms that replace default ones,\n",
      "                              [default: None]\n"
     ]
    }
   ],
   "source": [
    "! metaspades.py -h"
   ]
  },
  {
   "cell_type": "markdown",
   "id": "a188d1c6-335e-462c-9656-5b13aa80aee5",
   "metadata": {},
   "source": [
    "MetaCompass does not have a `conda` package available, so it has been installed in the container from source. In order to use it, you must call the program using the full path to the executable, like so: "
   ]
  },
  {
   "cell_type": "code",
   "execution_count": 2,
   "id": "350909f0-24f8-490c-99f2-fc189d1df4b1",
   "metadata": {},
   "outputs": [
    {
     "name": "stdout",
     "output_type": "stream",
     "text": [
      "MetaCompass metagenome assembler version 2.0.0 by Victoria Cepeda (vcepeda@cs.umd.edu)\n",
      "\n",
      "usage: go_metacompass.py [-h] [-c [CONFIG]] [-1 [FORWARD]] [-2 [REVERSE]]\n",
      "                         [-U [UNPAIRED]] [-r [REF]] [-s [REFSEL]]\n",
      "                         [-p [PICKREF]] [-m [MINCOV]] [-g [MINCTGLEN]]\n",
      "                         [-l [READLEN]] [-b] -o [OUTDIR] [-k] [-t [THREADS]]\n",
      "                         -y [MEMORY] [--Force] [--unlock] [--nolock]\n",
      "                         [--verbose] [--reason] [--dryrun]\n",
      "\n",
      "snakemake and metacompass params\n",
      "\n",
      "options:\n",
      "  -h, --help            show this help message and exit\n",
      "\n",
      "required:\n",
      "  -c [CONFIG], --config [CONFIG]\n",
      "                        config (json) file, set read length etc\n",
      "  -1 [FORWARD], --forward [FORWARD]\n",
      "                        Provide comma separated list of forward paired-end\n",
      "                        reads\n",
      "  -2 [REVERSE], --reverse [REVERSE]\n",
      "                        Provide comma separated list of reverse paired-end\n",
      "                        reads\n",
      "  -U [UNPAIRED], --unpaired [UNPAIRED]\n",
      "                        Provide comma separated list of unpaired reads\n",
      "                        (r1.fq,r2.fq,r3.fq)\n",
      "\n",
      "metacompass:\n",
      "  -r [REF], --ref [REF]\n",
      "                        reference genomes\n",
      "  -s [REFSEL], --refsel [REFSEL]\n",
      "                        reference selection [tax/all]\n",
      "  -p [PICKREF], --pickref [PICKREF]\n",
      "                        depth or breadth\n",
      "  -m [MINCOV], --mincov [MINCOV]\n",
      "                        min coverage to assemble\n",
      "  -g [MINCTGLEN], --minctglen [MINCTGLEN]\n",
      "                        min contig length\n",
      "  -l [READLEN], --readlen [READLEN]\n",
      "                        max read length\n",
      "\n",
      "output:\n",
      "  -b, --clobber         clobber output directory (if exists?)\n",
      "  -o [OUTDIR], --outdir [OUTDIR]\n",
      "                        output directory? (cwd default)\n",
      "  -k, --keepoutput      keep all output generated (default is to delete all\n",
      "                        but final fasta files)\n",
      "\n",
      "performance:\n",
      "  -t [THREADS], --threads [THREADS]\n",
      "                        num threads\n",
      "  -y [MEMORY], --memory [MEMORY]\n",
      "                        memory\n",
      "\n",
      "snakemake:\n",
      "  --Force               force snakemake to rerun\n",
      "  --unlock              unlock snakemake locks\n",
      "  --nolock              remove stale locks\n",
      "  --verbose             verbose\n",
      "  --reason              reason\n",
      "  --dryrun              dryrun\n"
     ]
    }
   ],
   "source": [
    "! /opt/MetaCompass-2.0-beta/go_metacompass.py -h"
   ]
  },
  {
   "cell_type": "markdown",
   "id": "f84cf081-1948-4fa9-945d-81a236793de6",
   "metadata": {},
   "source": [
    "And of course, you can run Python code directly from within the code cells of your Jupyter Notebook, like so: "
   ]
  },
  {
   "cell_type": "code",
   "execution_count": 4,
   "id": "97409e24-eb07-4fc8-8aa2-ec594da595d2",
   "metadata": {},
   "outputs": [
    {
     "name": "stdout",
     "output_type": "stream",
     "text": [
      "Jupyter Notebook cells are Python cells by default.\n"
     ]
    }
   ],
   "source": [
    "print(\"Jupyter Notebook cells are Python cells by default.\")"
   ]
  }
 ],
 "metadata": {
  "kernelspec": {
   "display_name": "Python 3 (ipykernel)",
   "language": "python",
   "name": "python3"
  },
  "language_info": {
   "codemirror_mode": {
    "name": "ipython",
    "version": 3
   },
   "file_extension": ".py",
   "mimetype": "text/x-python",
   "name": "python",
   "nbconvert_exporter": "python",
   "pygments_lexer": "ipython3",
   "version": "3.10.8"
  }
 },
 "nbformat": 4,
 "nbformat_minor": 5
}
